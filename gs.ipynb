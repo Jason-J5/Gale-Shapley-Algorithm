{
 "cells": [
  {
   "cell_type": "markdown",
   "source": [
    "Participants:\r\n",
    "Abe  Bob  Col  Dan  Ed   Fred Gav  Hal  Ian  Jon  \r\n",
    "Abi  Bea  Cath Dee  Eve  Fay  Gay  Hope Ivy  Jan  \r\n",
    "\r\n",
    "Preferences:\r\n",
    "Abe: Abi  Eve  Cath Ivy  Jan  Dee  Fay  Bea  Hope Gay \r\n",
    "Bob: Cath Hope Abi  Dee  Eve  Fay  Bea  Jan  Ivy  Gay \r\n",
    "Col: Hope Eve  Abi  Dee  Bea  Fay  Ivy  Gay  Cath Jan \r\n",
    "Dan: Ivy  Fay  Dee  Gay  Hope Eve  Jan  Bea  Cath Abi \r\n",
    "Ed: Jan  Dee  Bea  Cath Fay  Eve  Abi  Ivy  Hope Gay \r\n",
    "Fred: Bea  Abi  Dee  Gay  Eve  Ivy  Cath Jan  Hope Fay \r\n",
    "Gav: Gay  Eve  Ivy  Bea  Cath Abi  Dee  Hope Jan  Fay \r\n",
    "Hal: Abi  Eve  Hope Fay  Ivy  Cath Jan  Bea  Gay  Dee \r\n",
    "Ian: Hope Cath Dee  Gay  Bea  Abi  Fay  Ivy  Jan  Eve \r\n",
    "Jon: Abi  Fay  Jan  Gay  Eve  Bea  Dee  Cath Ivy  Hope\r\n",
    "Abi: Bob  Fred Jon  Gav  Ian  Abe  Dan  Ed   Col  Hal \r\n",
    "Bea: Bob  Abe  Col  Fred Gav  Dan  Ian  Ed   Jon  Hal \r\n",
    "Cath: Fred Bob  Ed   Gav  Hal  Col  Ian  Abe  Dan  Jon \r\n",
    "Dee: Fred Jon  Col  Abe  Ian  Hal  Gav  Dan  Bob  Ed  \r\n",
    "Eve: Jon  Hal  Fred Dan  Abe  Gav  Col  Ed   Ian  Bob \r\n",
    "Fay: Bob  Abe  Ed   Ian  Jon  Dan  Fred Gav  Col  Hal \r\n",
    "Gay: Jon  Gav  Hal  Fred Bob  Abe  Col  Ed   Dan  Ian \r\n",
    "Hope: Gav  Jon  Bob  Abe  Ian  Dan  Hal  Ed   Col  Fred\r\n",
    "Ivy: Ian  Col  Hal  Gav  Fred Bob  Abe  Ed   Jon  Dan \r\n",
    "Jan: Ed   Hal  Gav  Abe  Bob  Jon  Col  Ian  Fred Dan "
   ],
   "metadata": {}
  },
  {
   "cell_type": "code",
   "execution_count": null,
   "source": [
    "import copy \r\n",
    "import random\r\n",
    "from time import process_time\r\n",
    "rank = dict() "
   ],
   "outputs": [],
   "metadata": {}
  },
  {
   "cell_type": "code",
   "execution_count": 57,
   "source": [
    "#read prefs from file \r\n",
    "name = ''\r\n",
    "with open(\"prefs.txt\") as file:\r\n",
    " for line in file:\r\n",
    "    name = line.split(':')\r\n",
    "    rank[name[0]] = (name[1].strip().split(\" \"))\r\n",
    "    #print(pref)\r\n",
    "     \r\n",
    "print(rank)"
   ],
   "outputs": [
    {
     "output_type": "stream",
     "name": "stdout",
     "text": [
      "{'Abe': ['Abi', 'Eve', 'Cath', 'Ivy', 'Jan', 'Dee', 'Fay', 'Bea', 'Hope', 'Gay'], 'Bob': ['Cath', 'Hope', 'Abi', 'Dee', 'Eve', 'Fay', 'Bea', 'Jan', 'Ivy', 'Gay'], 'Col': ['Hope', 'Eve', 'Abi', 'Dee', 'Bea', 'Fay', 'Ivy', 'Gay', 'Cath', 'Jan'], 'Dan': ['Ivy', 'Fay', 'Dee', 'Gay', 'Hope', 'Eve', 'Jan', 'Bea', 'Cath', 'Abi'], 'Ed': ['Jan', 'Dee', 'Bea', 'Cath', 'Fay', 'Eve', 'Abi', 'Ivy', 'Hope', 'Gay'], 'Fred': ['Bea', 'Abi', 'Dee', 'Gay', 'Eve', 'Ivy', 'Cath', 'Jan', 'Hope', 'Fay'], 'Gav': ['Gay', 'Eve', 'Ivy', 'Bea', 'Cath', 'Abi', 'Dee', 'Hope', 'Jan', 'Fay'], 'Hal': ['Abi', 'Eve', 'Hope', 'Fay', 'Ivy', 'Cath', 'Jan', 'Bea', 'Gay', 'Dee'], 'Ian': ['Hope', 'Cath', 'Dee', 'Gay', 'Bea', 'Abi', 'Fay', 'Ivy', 'Jan', 'Eve'], 'Jon': ['Abi', 'Fay', 'Jan', 'Gay', 'Eve', 'Bea', 'Dee', 'Cath', 'Ivy', 'Hope'], 'Abi': ['Bob', 'Fred', 'Jon', 'Gav', 'Ian', 'Abe', 'Dan', 'Ed', 'Col', 'Hal'], 'Bea': ['Bob', 'Abe', 'Col', 'Fred', 'Gav', 'Dan', 'Ian', 'Ed', 'Jon', 'Hal'], 'Cath': ['Fred', 'Bob', 'Ed', 'Gav', 'Hal', 'Col', 'Ian', 'Abe', 'Dan', 'Jon'], 'Dee': ['Fred', 'Jon', 'Col', 'Abe', 'Ian', 'Hal', 'Gav', 'Dan', 'Bob', 'Ed'], 'Eve': ['Jon', 'Hal', 'Fred', 'Dan', 'Abe', 'Gav', 'Col', 'Ed', 'Ian', 'Bob'], 'Fay': ['Bob', 'Abe', 'Ed', 'Ian', 'Jon', 'Dan', 'Fred', 'Gav', 'Col', 'Hal'], 'Gay': ['Jon', 'Gav', 'Hal', 'Fred', 'Bob', 'Abe', 'Col', 'Ed', 'Dan', 'Ian'], 'Hope': ['Gav', 'Jon', 'Bob', 'Abe', 'Ian', 'Dan', 'Hal', 'Ed', 'Col', 'Fred'], 'Ivy': ['Ian', 'Col', 'Hal', 'Gav', 'Fred', 'Bob', 'Abe', 'Ed', 'Jon', 'Dan'], 'Jan': ['Ed', 'Hal', 'Gav', 'Abe', 'Bob', 'Jon', 'Col', 'Ian', 'Fred', 'Dan']}\n"
     ]
    }
   ],
   "metadata": {}
  },
  {
   "cell_type": "code",
   "execution_count": null,
   "source": [
    "people = list(rank.keys())\r\n",
    "#take first half of people list for men\r\n",
    "men = people[:len(people)//2]\r\n",
    "#take second half of people list women \r\n",
    "women = people[len(people)//2:]\r\n",
    "\r\n",
    "\r\n",
    "#list of free men in a queue\r\n",
    "freeMen = copy.deepcopy(men)\r\n",
    "#list of free women in a queue\r\n",
    "freeWomen =  copy.deepcopy(women)\r\n",
    "\r\n",
    "\"\"\"Maintain two arrays wife[m], and husband[w].\r\n",
    "– set entry to 0 if unmatched\r\n",
    "– if m matched to w then wife[m]=w and husband[w]=m\"\"\"\r\n",
    "husband = [0] * len(freeMen) \r\n",
    "\r\n",
    "\r\n",
    "\"\"\"\r\n",
    "Men proposing.\r\n",
    "    For each man, maintain a list of women, ordered by preference.\r\n",
    "    Maintain an array count[m] that counts the number of proposals\r\n",
    "    made by man m.\r\n",
    "\"\"\"\r\n",
    "#list of women ordered by preferance is in the dict accessed via rank[men[0]] where men[0] is the mans name or rank[x] where x is the mans name\r\n",
    "#print(rank['Victor'])\r\n",
    "\r\n",
    "#asked is a list of keeps count of the number of proposals made by man m  \r\n",
    "#ex: asked[0] is the number of women that man[0] has asked \r\n",
    "#ex: if man[0] has asked 3 people then asked[0] == 3 \r\n",
    "asked = [0] * len(men)  \r\n",
    "\r\n",
    "\"\"\"\r\n",
    "#   man1 asks choice 1\r\n",
    "man1 = men[0]\r\n",
    "indexOfPick = asked[men.index(man1)]\r\n",
    "print(rank[man1][indexOfPick])\r\n",
    "\"\"\""
   ],
   "outputs": [],
   "metadata": {}
  },
  {
   "cell_type": "code",
   "execution_count": null,
   "source": [
    "def FYshuffle(list):\r\n",
    "    for i in range(len(list)):\r\n",
    "        a = random.randint(0, len(list) - 1)\r\n",
    "        b = random.randint(0, len(list) - 1)\r\n",
    "        list[a], list[b] = list[b], list[a]\r\n",
    "    return list"
   ],
   "outputs": [],
   "metadata": {}
  },
  {
   "cell_type": "code",
   "execution_count": null,
   "source": [
    "for person in people:\r\n",
    "    print(rank[person])"
   ],
   "outputs": [],
   "metadata": {}
  },
  {
   "cell_type": "code",
   "execution_count": null,
   "source": [
    "\"\"\"Shuffle all the preferances\"\"\"\r\n",
    "for person in people:\r\n",
    "    FYshuffle(rank[person])\r\n",
    "    print(rank[person])"
   ],
   "outputs": [],
   "metadata": {}
  },
  {
   "cell_type": "code",
   "execution_count": null,
   "source": [
    "def prefers(w, suiter, partner):\r\n",
    "    \"\"\"\r\n",
    "    Returns:\r\n",
    "        [bool]: [true when the woman prefers her suiter to her current partner \r\n",
    "        and false if she prefers her current partner]\r\n",
    "    \"\"\"\r\n",
    "    wlist = list(rank[w])\r\n",
    "    #print(wlist)\r\n",
    "    if wlist.index(suiter) < wlist.index(partner):\r\n",
    "        print(w, \"prefers\", suiter, \"over\", partner )\r\n",
    "        print(w,\"dumps\",partner)\r\n",
    "        return True\r\n",
    "\r\n",
    "    print(w, \"prefers\", partner, \"over\", suiter)\r\n",
    "    return False\r\n",
    "\r\n",
    "\"\"\"p = husband[women.index(\"Bertha\")] = \"Victor\"\r\n",
    "#print(husband)\r\n",
    "prefers(\"Bertha\", \"Xavier\", p)\r\n",
    "\r\n",
    "husband[women.index(\"Bertha\")] = \"Yancey\"\r\n",
    "print(husband)\r\n",
    "prefers(\"Bertha\", \"Victor\", husband[women.index(\"Bertha\")])\"\"\"\r\n",
    "\r\n",
    "\r\n",
    "def gs():\r\n",
    "    \"\"\"\r\n",
    "  Initialize each person to be free.\r\n",
    "    while (some man is free and hasn't proposed to every woman) {\r\n",
    "        \r\n",
    "        Choose such a man m\r\n",
    "        w = 1st woman on m's list to whom m has not yet proposed\r\n",
    "        \r\n",
    "        if (w is free)\r\n",
    "            assign m and w to be engaged\r\n",
    "\r\n",
    "        else if (w prefers m to her fiancé m')\r\n",
    "            assign m and w to be engaged, and m' to be free\r\n",
    "\r\n",
    "        else\r\n",
    "            w rejects m\r\n",
    "    }\r\n",
    "\r\n",
    "    \"\"\"\r\n",
    "    #starting all people are free ie freeMen and freeWomen have all males and females\r\n",
    "    while len(freeMen) > 0 :\r\n",
    "        #Choose such a man m\r\n",
    "        m = freeMen[0]\r\n",
    "        #w = 1st woman on m's list to whom m has not yet proposed\r\n",
    "        w = rank[m][asked[men.index(m)]]\r\n",
    "        \r\n",
    "        #increment asked for m\r\n",
    "        asked[men.index(m)] += 1\r\n",
    "\r\n",
    "        print(m, \"proposes to\", w)\r\n",
    "        \r\n",
    "        #if (w is free)\r\n",
    "            #assign m and w to be engaged\r\n",
    "        if freeWomen.__contains__(w):\r\n",
    "            print(m ,\"and\", w, \"are engaged\")\r\n",
    "            \r\n",
    "            husband[women.index(w)] = m\r\n",
    "\r\n",
    "            freeWomen.pop(freeWomen.index(w))\r\n",
    "            freeMen.pop(freeMen.index(m))\r\n",
    "\r\n",
    "            #print(husband)\r\n",
    "\r\n",
    "        elif prefers(w, m, husband[women.index(w)]):\r\n",
    "            #print(w ,\"prefers\", m)\r\n",
    "            freeMen.insert(0, husband[women.index(w)])\r\n",
    "            husband[women.index(w)] = m\r\n",
    "            print(m, \"and\", w, \"are engaged\")\r\n",
    "            freeMen.pop(freeMen.index(m))\r\n",
    "        \r\n",
    "        else:\r\n",
    "            print(w, \"rejects\", m)"
   ],
   "outputs": [],
   "metadata": {}
  },
  {
   "cell_type": "code",
   "execution_count": null,
   "source": [
    "gs()"
   ],
   "outputs": [],
   "metadata": {}
  },
  {
   "cell_type": "code",
   "execution_count": null,
   "source": [
    "for i in range(len(husband)):\r\n",
    "    print(husband[i],\":\",women[i])"
   ],
   "outputs": [],
   "metadata": {}
  }
 ],
 "metadata": {
  "orig_nbformat": 4,
  "language_info": {
   "name": "python",
   "version": "3.9.2",
   "mimetype": "text/x-python",
   "codemirror_mode": {
    "name": "ipython",
    "version": 3
   },
   "pygments_lexer": "ipython3",
   "nbconvert_exporter": "python",
   "file_extension": ".py"
  },
  "kernelspec": {
   "name": "python3",
   "display_name": "Python 3.9.2 64-bit"
  },
  "interpreter": {
   "hash": "63fd5069d213b44bf678585dea6b12cceca9941eaf7f819626cde1f2670de90d"
  }
 },
 "nbformat": 4,
 "nbformat_minor": 2
}